{
 "cells": [
  {
   "cell_type": "markdown",
   "metadata": {},
   "source": [
    "### Geometric Computer Vision, Skoltech, 2021\n",
    "#### Alexey Artemov, Aleksandr Safin"
   ]
  },
  {
   "cell_type": "markdown",
   "metadata": {},
   "source": [
    "### COLMAP\n",
    "\n"
   ]
  },
  {
   "cell_type": "markdown",
   "metadata": {},
   "source": [
    "Run this code in Google Collab:\n",
    "(If you would like to build and then use COLMAP on your laptop/server, you should follow the [official guide](https://colmap.github.io/install.html). Another way is just use their [docker](https://github.com/colmap/colmap/blob/dev/docker/Dockerfile) and create container out of it)\n",
    "\n",
    "Thanks to [this collab notebook](https://colab.research.google.com/drive/1i5_uVHWOJlh2adRFT5BuDhoRftq9Oosx#scrollTo=w5iFssCPIs21) showing how to compile it in the cloud"
   ]
  },
  {
   "cell_type": "code",
   "execution_count": null,
   "metadata": {},
   "outputs": [],
   "source": [
    "# Install packages\n",
    "!sudo apt-get install \\\n",
    "    git \\\n",
    "    cmake \\\n",
    "    build-essential \\\n",
    "    libboost-program-options-dev \\\n",
    "    libboost-filesystem-dev \\\n",
    "    libboost-graph-dev \\\n",
    "    libboost-regex-dev \\\n",
    "    libboost-system-dev \\\n",
    "    libboost-test-dev \\\n",
    "    libeigen3-dev \\\n",
    "    libsuitesparse-dev \\\n",
    "    libfreeimage-dev \\\n",
    "    libgoogle-glog-dev \\\n",
    "    libgflags-dev \\\n",
    "    libglew-dev \\\n",
    "    qtbase5-dev \\\n",
    "    libqt5opengl5-dev \\\n",
    "    libcgal-dev \\\n",
    "    libcgal-qt5-dev\n",
    "\n",
    "# download precompiled colmap packages\n",
    "%pushd /content/\n",
    "!wget https://www.dropbox.com/s/zvbw6h8nrlm3hc3/colmap-packages.zip?dl=1 -O colmap-packages.zip\n",
    "!unzip -q colmap-packages.zip -d colmap-packages\n",
    "# ceres-solver make install\n",
    "%cd colmap-packages/\n",
    "%pushd ceres-solver/build/\n",
    "!sudo make install\n",
    "%popd\n",
    "# colmap make install\n",
    "%pushd colmap/build\n",
    "!sudo make install\n",
    "!CC=/usr/bin/gcc-6 CXX=/usr/bin/g++-6 cmake ..\n",
    "%popd\n",
    "%popd  # pop /content\n",
    "\n",
    "# test colmap\n",
    "!colmap\n",
    "!which colmap"
   ]
  },
  {
   "cell_type": "markdown",
   "metadata": {},
   "source": [
    "Then download our sample data and unzip it, check md5 for sure:"
   ]
  },
  {
   "cell_type": "code",
   "execution_count": 11,
   "metadata": {},
   "outputs": [],
   "source": [
    "!wget -O colmap_test_scenes.zip https://github.com/keqpan/skoltech-gcv-course-2021/raw/main/week2/sample_data/colmap_test_scenes.zip\n",
    "!unzip -q colmap_test_scenes.zip\n",
    "!md5sum colmap_test_scenes.zip"
   ]
  },
  {
   "cell_type": "markdown",
   "metadata": {},
   "source": [
    "md5 should be c76a5d7db924aa20e4ba4ec9396454b9"
   ]
  },
  {
   "cell_type": "code",
   "execution_count": null,
   "metadata": {},
   "outputs": [],
   "source": [
    "!mkdir colmap_output"
   ]
  },
  {
   "cell_type": "markdown",
   "metadata": {},
   "source": [
    "Run COLMAP:"
   ]
  },
  {
   "cell_type": "markdown",
   "metadata": {},
   "source": [
    "`colmap automatic_reconstructor  --workspace_path colmap_output/ --image_path sample_rgb --use_gpu=1 --gpu_index=0`"
   ]
  },
  {
   "cell_type": "markdown",
   "metadata": {},
   "source": [
    "But we will run prepared for you `run_colmap.sh`, so to skip meshing in the end, to decrease computation time. You should create the directory `test_00_res` for output and then pass to `run_colmap.sh` the output directory as first argument and path to directory with the images as a second."
   ]
  },
  {
   "cell_type": "code",
   "execution_count": null,
   "metadata": {},
   "outputs": [],
   "source": [
    "!"
   ]
  },
  {
   "cell_type": "markdown",
   "metadata": {},
   "source": [
    "Save all `.ply` results into one folder and make a zip archive."
   ]
  },
  {
   "cell_type": "code",
   "execution_count": null,
   "metadata": {},
   "outputs": [],
   "source": []
  },
  {
   "cell_type": "markdown",
   "metadata": {},
   "source": [
    "Zipping the results:"
   ]
  },
  {
   "cell_type": "code",
   "execution_count": null,
   "metadata": {},
   "outputs": [],
   "source": [
    "!zip "
   ]
  },
  {
   "cell_type": "markdown",
   "metadata": {},
   "source": [
    "## Lab Tasks\n",
    "\n",
    "## Deadline: 23:59, February 13, 2021 (GMT +3)\n",
    "\n",
    "#### Task 1.\n",
    "Download [lab_task_scenes.zip](https://github.com/keqpan/skoltech-gcv-course-2021/raw/main/week2/sample_data/lab_task_scenes.zip). You will find 3 folders inside.\n",
    "* 1. **(1 point)**. Run COLMAP for every folder with images to reconstruct point cloud. You should have 3 point clouds.\n",
    "* 2. **(3 point)**. Register 2 point clouds, then register the rest point cloud to the already registered point clouds. Save the result as `task1.ply`. Also make several (3-4) screenshots with obtained point cloud. Plot them here.\n"
   ]
  },
  {
   "cell_type": "markdown",
   "metadata": {},
   "source": [
    "**Deliverables** you should have in your Canvas submission: \n",
    "* `task1.ply` for 2. (add to `results.zip` together with `task2.ply`)"
   ]
  },
  {
   "cell_type": "code",
   "execution_count": 115,
   "metadata": {},
   "outputs": [],
   "source": [
    "### your code here"
   ]
  },
  {
   "cell_type": "markdown",
   "metadata": {},
   "source": [
    "\n",
    "#### Task 2. (8 points)\n",
    "In that task you need to choose an object of your interest so you will be able to make a series of photos of it from different viewpoints. For simplicity of explanation, consider you will move you camera from left to right, say clockwise. You are better to move camera in the same horizontal plane. So you make first shot, then move camera a bit to the right (Do it in reasonable way, but just to hint a bit, let's say, if you capturing an object in 30 centimeters, you move mobile phone by 2-3 centimeters). Then make new shot and repeat the process. You should make from 15 up to 23 frames.\n",
    "\n",
    "**! Important:** you will need to resize your images to the size of near *600x450*, the particular size does not matter, it would be better for you to keep aspect ratio of the original shots. The higher image resolution, the longer COLMAP will work.\n",
    "\n",
    "* 1.a **(1 point)**. Capture images properly (you get 1 point only if you get at least one `.ply` by COLMAP)\n",
    "* 1.b **(0.5 point)**. Resize images. Save resized images (`.jpg`) in `.zip` and attach them `images.zip` in Canvas.\n",
    "* 1.c **(0.5 point)**. Make 3 subsets of the images, so you in each subset you have from 5 to 9 consecutive frames, and each subset have intersection of 2 frames (the same 2 frames). Plot each group of images on one plot\n",
    "* 2.**(1 point)** Run COLMAP to obtain point clouds for each subset. You should have 3 point clouds\n",
    "* 3.**(3 points)** Register 2 point clouds, then register the rest point cloud to the already registered point clouds. Save the result as `task2.ply`. Make several (3-4) screenshots with obtained point cloud. Plot them here in the notebook\n",
    "* 4.**(1 point)** Run COLMAP to obtain point clouds for all images you had originally. Make several (3-4) screenshots with obtained point cloud. Plot them here in the notebook\n",
    "* 5.**(1 point)** Compare the results, describe in 1-2 sentences. If COLMAP does not work for all images, but works for 3 separate sequences, explain why it could be so.\n",
    "\n",
    "\n",
    "More recommendations, according to [official COLMAP guide](https://colmap.github.io/tutorial.html#structure-from-motion):\n",
    " - Capture images with **good texture**. Avoid completely texture-less images (e.g., a white wall or empty desk). If the scene does not contain enough texture itself, you could place additional background objects, such as posters, etc.\n",
    "\n",
    " - Capture images at **similar illumination conditions**. Avoid high dynamic range scenes (e.g., pictures against the sun with shadows or pictures through doors/windows). Avoid specularities on shiny surfaces.\n",
    "\n",
    " - Capture images with **high visual overlap**. Make sure that each object is seen in at least 3 images – the more images the better.\n",
    "\n",
    " - Capture images from **different viewpoints**. Do not take images from the same location by only rotating the camera, e.g., make a few steps after each shot. At the same time, try to have enough images from a relatively similar viewpoint. Note that more images is not necessarily better and might lead to a slow reconstruction process. If you use a video as input, consider down-sampling the frame rate.\n"
   ]
  },
  {
   "cell_type": "markdown",
   "metadata": {},
   "source": [
    "**Deliverables** you should have in your Canvas submission:\n",
    "1. `images.zip` for 1.b\n",
    "2. `task2.ply` for 3. (should be in `results.zip` together with `task1.ply`)"
   ]
  },
  {
   "cell_type": "markdown",
   "metadata": {},
   "source": [
    "**Hints:**\n",
    "* To resize, you might use `pillow` library, then `from PIL import Image` and do something like `Image.open(img).resize((600, 400), Image.ANTIALIAS)`"
   ]
  },
  {
   "cell_type": "code",
   "execution_count": null,
   "metadata": {},
   "outputs": [],
   "source": [
    "### your code here"
   ]
  },
  {
   "cell_type": "markdown",
   "metadata": {},
   "source": [
    "Your 1-2 sentences explanation for task 5"
   ]
  }
 ],
 "metadata": {
  "kernelspec": {
   "display_name": "Python 3",
   "language": "python",
   "name": "python3"
  },
  "language_info": {
   "codemirror_mode": {
    "name": "ipython",
    "version": 3
   },
   "file_extension": ".py",
   "mimetype": "text/x-python",
   "name": "python",
   "nbconvert_exporter": "python",
   "pygments_lexer": "ipython3",
   "version": "3.7.9"
  }
 },
 "nbformat": 4,
 "nbformat_minor": 4
}
