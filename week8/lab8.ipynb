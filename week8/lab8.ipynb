{
 "cells": [
  {
   "cell_type": "code",
   "execution_count": 1,
   "id": "cordless-anthropology",
   "metadata": {},
   "outputs": [],
   "source": [
    "import meshplot as mp \n",
    "import numpy as np\n",
    "import igl\n",
    "import yaml\n",
    "from yaml import CLoader as Loader"
   ]
  },
  {
   "cell_type": "markdown",
   "id": "korean-official",
   "metadata": {},
   "source": [
    "## Reading CAD Data"
   ]
  },
  {
   "cell_type": "code",
   "execution_count": 2,
   "id": "constitutional-imagination",
   "metadata": {},
   "outputs": [
    {
     "name": "stdout",
     "output_type": "stream",
     "text": [
      "(20683, 3) (41370, 3)\n",
      "['curves', 'surfaces']\n"
     ]
    }
   ],
   "source": [
    "\n",
    "def read_model(obj_path, feat_path):\n",
    "    v, _, n, f, _, ni = igl.read_obj(obj_path)\n",
    "\n",
    "    with open(feat_path) as fi:\n",
    "        feat = yaml.load(fi, Loader=Loader)\n",
    "    m = {\"vertices\": v, \"face_indices\": f, \"normals\": n, \n",
    "        \"normal_indices\": ni, \"features\": feat}\n",
    "    return m\n",
    "\n",
    "m = read_model(\"data/test_trimesh.obj\", \"data/test_features.yml\")\n",
    "v, f, feat = m[\"vertices\"], m[\"face_indices\"], m[\"features\"]\n",
    "print(v.shape, f.shape)\n",
    "print(list(feat.keys()))"
   ]
  },
  {
   "cell_type": "markdown",
   "id": "unlike-philippines",
   "metadata": {},
   "source": [
    "## CAD Features: Surface Normals"
   ]
  },
  {
   "cell_type": "code",
   "execution_count": 3,
   "id": "attempted-round",
   "metadata": {},
   "outputs": [
    {
     "data": {
      "application/vnd.jupyter.widget-view+json": {
       "model_id": "361bb69bd7784709bda938bce396b0ae",
       "version_major": 2,
       "version_minor": 0
      },
      "text/plain": [
       "Renderer(camera=PerspectiveCamera(children=(DirectionalLight(color='white', intensity=0.6, position=(5.0, 1.30…"
      ]
     },
     "metadata": {},
     "output_type": "display_data"
    }
   ],
   "source": [
    "from data.utils import get_averaged_normals\n",
    "\n",
    "# Average normals at vertices with multiple normals\n",
    "av_normals = get_averaged_normals(m)\n",
    "\n",
    "p = mp.plot(v, f, c=np.abs(av_normals))\n",
    "\n",
    "# Add normals to the plot\n",
    "#p.add_lines(m[\"vertices\"], m[\"vertices\"] + av_normals,\n",
    "#            shading={\"line_color\": \"black\"})\n",
    "\n",
    "# Determine normals with uniform weighting in libigl\n",
    "#normals = igl.per_vertex_normals(v, f)\n",
    "#p.add_lines(m[\"vertices\"], m[\"vertices\"] + normals,\n",
    "#            shading={\"line_color\": \"red\"})"
   ]
  },
  {
   "cell_type": "markdown",
   "id": "union-browser",
   "metadata": {},
   "source": [
    "## CAD Features: Sharp Edges/Curves"
   ]
  },
  {
   "cell_type": "code",
   "execution_count": 4,
   "id": "intelligent-skirt",
   "metadata": {},
   "outputs": [
    {
     "data": {
      "application/vnd.jupyter.widget-view+json": {
       "model_id": "9155a4ceaddc45be8b7c890e5620e506",
       "version_major": 2,
       "version_minor": 0
      },
      "text/plain": [
       "Renderer(camera=PerspectiveCamera(children=(DirectionalLight(color='white', intensity=0.6, position=(5.0, 1.30…"
      ]
     },
     "metadata": {},
     "output_type": "display_data"
    },
    {
     "data": {
      "text/plain": [
       "1"
      ]
     },
     "execution_count": 4,
     "metadata": {},
     "output_type": "execute_result"
    }
   ],
   "source": [
    "# Retrieve the sharp features\n",
    "lines = []\n",
    "for i, fe in enumerate(feat[\"curves\"]):\n",
    "    if fe[\"sharp\"]:\n",
    "################################\n",
    "###  your code here \n",
    "################################\n",
    "\n",
    "\n",
    "# Visualize the sharp features            \n",
    "p = mp.plot(v, f)\n",
    "p.add_edges(v, np.array(lines))"
   ]
  },
  {
   "cell_type": "markdown",
   "id": "outstanding-medicare",
   "metadata": {},
   "source": [
    "## CAD Features: Sharp Edges/Curves¶"
   ]
  },
  {
   "cell_type": "code",
   "execution_count": 5,
   "id": "boolean-commercial",
   "metadata": {},
   "outputs": [
    {
     "data": {
      "application/vnd.jupyter.widget-view+json": {
       "model_id": "4034a460b76748afb54f4fea18d48de3",
       "version_major": 2,
       "version_minor": 0
      },
      "text/plain": [
       "Renderer(camera=PerspectiveCamera(children=(DirectionalLight(color='white', intensity=0.6, position=(5.0, 1.30…"
      ]
     },
     "metadata": {},
     "output_type": "display_data"
    },
    {
     "data": {
      "text/plain": [
       "<meshplot.Viewer.Viewer at 0x7f9feb1c5c50>"
      ]
     },
     "execution_count": 5,
     "metadata": {},
     "output_type": "execute_result"
    }
   ],
   "source": [
    "# Retrieve the sharp features\n",
    "v_class = np.zeros((v.shape[0], 1))\n",
    "for i, fe in enumerate(feat[\"curves\"]):\n",
    "    if fe[\"sharp\"]:\n",
    "################################\n",
    "###  your code here \n",
    "################################        \n",
    "\n",
    "# Visualize the sharp features            \n",
    "mp.plot(v, c=-v_class, shading={\"point_size\": 2.})"
   ]
  },
  {
   "cell_type": "markdown",
   "id": "curious-samuel",
   "metadata": {},
   "source": [
    "## CAD Features: Surface Patch Types"
   ]
  },
  {
   "cell_type": "code",
   "execution_count": 6,
   "id": "coordinated-macintosh",
   "metadata": {},
   "outputs": [
    {
     "data": {
      "application/vnd.jupyter.widget-view+json": {
       "model_id": "bf958edae38e40bd984a8572e50ae80b",
       "version_major": 2,
       "version_minor": 0
      },
      "text/plain": [
       "Renderer(camera=PerspectiveCamera(children=(DirectionalLight(color='white', intensity=0.6, position=(5.0, 1.30…"
      ]
     },
     "metadata": {},
     "output_type": "display_data"
    },
    {
     "data": {
      "text/plain": [
       "<meshplot.Viewer.Viewer at 0x7f9f53708400>"
      ]
     },
     "execution_count": 6,
     "metadata": {},
     "output_type": "execute_result"
    }
   ],
   "source": [
    "# Retrieve the surface patch types\n",
    "t_map = {\"Plane\": 0, \"Cylinder\": 1,\n",
    "         \"Cone\": 2, \"Sphere\": 3,\n",
    "         \"Torus\": 4, \"Bezier\": 5,\n",
    "         \"BSpline\": 6, \"Revolution\": 7,\n",
    "         \"Extrusion\": 8, \"Other\": 9}\n",
    "\n",
    "c1 = np.zeros(f.shape[0])\n",
    "for fe in feat[\"surfaces\"]:\n",
    "    t = t_map[fe[\"type\"]]\n",
    "################################\n",
    "###  your code here \n",
    "################################    \n",
    "\n",
    "# Visualize the patch types\n",
    "mp.plot(v, f, -c1)"
   ]
  },
  {
   "cell_type": "markdown",
   "id": "starting-pharmacy",
   "metadata": {},
   "source": [
    "## CAD Features: Surface Patch Types¶"
   ]
  },
  {
   "cell_type": "code",
   "execution_count": 7,
   "id": "reasonable-optics",
   "metadata": {},
   "outputs": [
    {
     "data": {
      "application/vnd.jupyter.widget-view+json": {
       "model_id": "6370549fea2c4b7dae3a5d5ca87a121b",
       "version_major": 2,
       "version_minor": 0
      },
      "text/plain": [
       "Renderer(camera=PerspectiveCamera(children=(DirectionalLight(color='white', intensity=0.6, position=(5.0, 1.30…"
      ]
     },
     "metadata": {},
     "output_type": "display_data"
    },
    {
     "data": {
      "text/plain": [
       "<meshplot.Viewer.Viewer at 0x7f9f53708ac8>"
      ]
     },
     "execution_count": 7,
     "metadata": {},
     "output_type": "execute_result"
    }
   ],
   "source": [
    "# Retrieve the surface patch types per vertex\n",
    "c2 = np.zeros(v.shape[0])\n",
    "for fe in feat[\"surfaces\"]:\n",
    "    t = t_map[fe[\"type\"]]\n",
    "################################\n",
    "###  your code here \n",
    "################################    \n",
    "\n",
    "# Visualize the vertices\n",
    "mp.plot(v, c=-c2, shading={\"point_size\": 2.})"
   ]
  },
  {
   "cell_type": "markdown",
   "id": "announced-discount",
   "metadata": {},
   "source": [
    "# Machine Learning Setup"
   ]
  },
  {
   "cell_type": "code",
   "execution_count": 8,
   "id": "heard-bishop",
   "metadata": {},
   "outputs": [],
   "source": [
    "import numpy as np\n",
    "import meshplot as mp\n",
    "import torch\n",
    "import torch.nn.functional as F\n",
    "from torch.nn import Sequential, Dropout, Linear\n",
    "import torch_geometric.transforms as T\n",
    "from torch_geometric.data import DataLoader\n",
    "from torch_geometric.nn import DynamicEdgeConv\n",
    "\n",
    "from data.utils import MLP\n",
    "from data.utils import ABCDataset"
   ]
  },
  {
   "cell_type": "markdown",
   "id": "resident-inclusion",
   "metadata": {},
   "source": [
    "## Loading the CAD Data"
   ]
  },
  {
   "cell_type": "code",
   "execution_count": 9,
   "id": "italic-austin",
   "metadata": {},
   "outputs": [],
   "source": [
    "tf_train = T.Compose([\n",
    "    T.FixedPoints(5000, replace=False),\n",
    "    T.RandomTranslate(0.002),\n",
    "    T.RandomRotate(15, axis=0),\n",
    "    T.RandomRotate(15, axis=1),\n",
    "    T.RandomRotate(15, axis=2)\n",
    "])\n",
    "tf_test = T.Compose([T.FixedPoints(10000, replace=False)])\n",
    "pre = T.NormalizeScale()\n",
    "\n",
    "train_dataset_n = ABCDataset(\"data/ml/ABC\", \"Normals\", True, tf_train, pre)\n",
    "test_dataset_n = ABCDataset(\"data/ml/ABC\", \"Normals\", False, tf_test, pre)\n",
    "train_dataset_e = ABCDataset(\"data/ml/ABC\", \"Edges\", True, tf_train, pre)\n",
    "test_dataset_e = ABCDataset(\"data/ml/ABC\", \"Edges\", False, tf_test, pre)\n",
    "train_dataset_t = ABCDataset(\"data/ml/ABC\", \"Types\", True, tf_train, pre)\n",
    "test_dataset_t = ABCDataset(\"data/ml/ABC\", \"Types\", False, tf_test, pre)"
   ]
  },
  {
   "cell_type": "markdown",
   "id": "textile-pickup",
   "metadata": {},
   "source": [
    "## Statistics and Visualization"
   ]
  },
  {
   "cell_type": "code",
   "execution_count": 10,
   "id": "moral-cruise",
   "metadata": {},
   "outputs": [
    {
     "name": "stdout",
     "output_type": "stream",
     "text": [
      "Number of models: 10\n",
      "Number of classes: 7\n",
      "0.60% labels are of class 0.\n",
      "0.25% labels are of class 1.\n",
      "0.02% labels are of class 2.\n",
      "0.00% labels are of class 3.\n",
      "0.00% labels are of class 4.\n",
      "0.00% labels are of class 5.\n",
      "0.03% labels are of class 6.\n"
     ]
    }
   ],
   "source": [
    "dataset = train_dataset_t\n",
    "print(\"Number of models:\", len(dataset))\n",
    "print(\"Number of classes:\", dataset.num_classes)\n",
    "\n",
    "counts = [0]*dataset.num_classes\n",
    "total = 0\n",
    "for d in dataset:\n",
    "    y = d.y.numpy()\n",
    "    for i in range(dataset.num_classes):\n",
    "        counts[i] += np.sum(y==i)\n",
    "    total += y.shape[0]\n",
    "\n",
    "for i, c in enumerate(counts):\n",
    "    print(\"%0.2f%% labels are of class %i.\"%(c/total, i))\n",
    "\n"
   ]
  },
  {
   "cell_type": "code",
   "execution_count": 11,
   "id": "warming-asian",
   "metadata": {},
   "outputs": [
    {
     "name": "stdout",
     "output_type": "stream",
     "text": [
      "Shape of model: (10000, 3)\n",
      "Shape of labels: (10000,)\n"
     ]
    },
    {
     "data": {
      "application/vnd.jupyter.widget-view+json": {
       "model_id": "b789d99c28044575be636b429cfb6d55",
       "version_major": 2,
       "version_minor": 0
      },
      "text/plain": [
       "Renderer(camera=PerspectiveCamera(children=(DirectionalLight(color='white', intensity=0.6, position=(0.0057077…"
      ]
     },
     "metadata": {},
     "output_type": "display_data"
    },
    {
     "data": {
      "text/plain": [
       "<meshplot.Viewer.Viewer at 0x7f9f536e34e0>"
      ]
     },
     "execution_count": 11,
     "metadata": {},
     "output_type": "execute_result"
    }
   ],
   "source": [
    "d = test_dataset_e[3]\n",
    "v = d.pos.numpy()\n",
    "y = d.y.numpy()\n",
    "print(\"Shape of model:\", v.shape)\n",
    "print(\"Shape of labels:\", y.shape)\n",
    "\n",
    "mp.plot(v, c=-y, shading={\"point_size\": 0.1})"
   ]
  },
  {
   "cell_type": "code",
   "execution_count": 12,
   "id": "continued-corporation",
   "metadata": {},
   "outputs": [
    {
     "data": {
      "application/vnd.jupyter.widget-view+json": {
       "model_id": "88541fe6ee5a484cb42b5fecfc29cd6d",
       "version_major": 2,
       "version_minor": 0
      },
      "text/plain": [
       "Renderer(camera=PerspectiveCamera(children=(DirectionalLight(color='white', intensity=0.6, position=(-0.003267…"
      ]
     },
     "metadata": {},
     "output_type": "display_data"
    },
    {
     "data": {
      "text/plain": [
       "<meshplot.Viewer.Viewer at 0x7f9f536864a8>"
      ]
     },
     "execution_count": 12,
     "metadata": {},
     "output_type": "execute_result"
    }
   ],
   "source": [
    "d = train_dataset_n[8]\n",
    "v = d.pos.numpy()\n",
    "y = d.y.numpy()\n",
    "mp.plot(v, c=np.abs(y), shading={\"point_size\": 0.1})"
   ]
  },
  {
   "cell_type": "code",
   "execution_count": 13,
   "id": "available-frederick",
   "metadata": {},
   "outputs": [
    {
     "data": {
      "application/vnd.jupyter.widget-view+json": {
       "model_id": "bd239538c0b4499aa62685dab6c0dfdb",
       "version_major": 2,
       "version_minor": 0
      },
      "text/plain": [
       "Renderer(camera=PerspectiveCamera(children=(DirectionalLight(color='white', intensity=0.6, position=(-0.002009…"
      ]
     },
     "metadata": {},
     "output_type": "display_data"
    },
    {
     "data": {
      "text/plain": [
       "<meshplot.Viewer.Viewer at 0x7f9f5368ef60>"
      ]
     },
     "execution_count": 13,
     "metadata": {},
     "output_type": "execute_result"
    }
   ],
   "source": [
    "d = train_dataset_t[8]\n",
    "v = d.pos.numpy()\n",
    "y = d.y.numpy()\n",
    "mp.plot(v, c=-y, shading={\"point_size\": 0.1})"
   ]
  },
  {
   "cell_type": "markdown",
   "id": "golden-surprise",
   "metadata": {},
   "source": [
    "## Defining the Network (DGCNN)"
   ]
  },
  {
   "cell_type": "code",
   "execution_count": 14,
   "id": "essential-holocaust",
   "metadata": {},
   "outputs": [],
   "source": [
    "class Net(torch.nn.Module):\n",
    "    def __init__(self, out_channels, k=30, aggr='max', \n",
    "                 typ='Edges'):\n",
    "        super(Net, self).__init__()\n",
    "        self.typ = typ\n",
    "        self.conv1 = DynamicEdgeConv(MLP([2 * 3, 64, 64]), k, aggr)\n",
    "        self.conv2 = DynamicEdgeConv(MLP([2* 64, 64, 64]), k, aggr)\n",
    "        self.conv3 = DynamicEdgeConv(MLP([2* 64, 64, 64]), k, aggr)\n",
    "        self.lin1 = MLP([3 * 64, 1024])\n",
    "\n",
    "        self.mlp = Sequential(MLP([1024, 256]), Dropout(0.5), \n",
    "                              MLP([256, 128]), Dropout(0.5), \n",
    "                              Linear(128, out_channels))\n",
    "\n",
    "    def forward(self, data):\n",
    "        pos, batch = data.pos, data.batch\n",
    "        x1 = self.conv1(pos, batch)\n",
    "        x2 = self.conv2(x1, batch)\n",
    "        x3 = self.conv3(x2, batch)\n",
    "        out = self.lin1(torch.cat([x1, x2, x3], dim=1))\n",
    "        out = self.mlp(out)\n",
    "        if self.typ == \"Edges\" or self.typ == \"Types\":\n",
    "            return F.log_softmax(out, dim=1)\n",
    "        if self.typ == \"Normals\":\n",
    "            return F.normalize(out, p=2, dim=-1)"
   ]
  },
  {
   "cell_type": "markdown",
   "id": "pregnant-monaco",
   "metadata": {},
   "source": [
    "## Visualizing the Nearest Neighbour Graph"
   ]
  },
  {
   "cell_type": "code",
   "execution_count": 15,
   "id": "inner-police",
   "metadata": {},
   "outputs": [
    {
     "data": {
      "application/vnd.jupyter.widget-view+json": {
       "model_id": "323dd7e7ef334b31b7a1c1e8b60022c3",
       "version_major": 2,
       "version_minor": 0
      },
      "text/plain": [
       "Renderer(camera=PerspectiveCamera(children=(DirectionalLight(color='white', intensity=0.6, position=(0.0057023…"
      ]
     },
     "metadata": {},
     "output_type": "display_data"
    },
    {
     "data": {
      "text/plain": [
       "1"
      ]
     },
     "execution_count": 15,
     "metadata": {},
     "output_type": "execute_result"
    }
   ],
   "source": [
    "tf_pre = T.Compose([\n",
    "    T.FixedPoints(1000),\n",
    "    T.NormalizeScale(),\n",
    "    T.KNNGraph(k=6)\n",
    "])\n",
    "\n",
    "dataset = ABCDataset(\"data/ml/ABC_graph\", \"Edges\", pre_transform=tf_pre)\n",
    "vd = dataset[0].pos.numpy()\n",
    "p = mp.plot(vd, shading={\"point_size\": 0.1})\n",
    "p.add_edges(vd, dataset[0].edge_index.numpy().T)"
   ]
  },
  {
   "cell_type": "markdown",
   "id": "italic-command",
   "metadata": {},
   "source": [
    "## Defining the Loss Function (Normals)"
   ]
  },
  {
   "cell_type": "code",
   "execution_count": 16,
   "id": "distinguished-frame",
   "metadata": {},
   "outputs": [],
   "source": [
    "class Cosine_Loss(torch.nn.Module):\n",
    "    \n",
    "    def __init__(self):\n",
    "        super(Cosine_Loss,self).__init__()\n",
    "\n",
    "    def forward(self, x, y):\n",
    "        \n",
    "################################\n",
    "###  your code here \n",
    "################################            \n",
    "        \n",
    "        return loss, angle\n",
    "\n",
    "cosine_loss = Cosine_Loss()"
   ]
  },
  {
   "cell_type": "markdown",
   "id": "accompanied-executive",
   "metadata": {},
   "source": [
    "## Defining the Training Procedure"
   ]
  },
  {
   "cell_type": "code",
   "execution_count": 17,
   "id": "sorted-discretion",
   "metadata": {},
   "outputs": [],
   "source": [
    "def train(loader, typ=\"Edges\"):\n",
    "    model.train()\n",
    "\n",
    "    for i, data in enumerate(loader):\n",
    "        total_loss = correct_nodes = total_nodes = 0\n",
    "        data = data.to(device)\n",
    "        optimizer.zero_grad()\n",
    "        out = model(data)\n",
    "\n",
    "        if typ == \"Edges\" or typ == \"Types\":\n",
    "            loss = F.nll_loss(out, data.y)\n",
    "        if typ == \"Normals\":\n",
    "            loss, angle = cosine_loss(out, data.y)\n",
    "\n",
    "        loss.backward()\n",
    "        optimizer.step()\n",
    "        total_loss += loss.item()\n",
    "\n",
    "        if typ == \"Edges\" or typ == \"Types\":\n",
    "            pred = out.max(dim=1)[1]\n",
    "            correct_nodes += pred.eq(data.y).sum().item()\n",
    "            total_nodes += data.num_nodes\n",
    "            acc = correct_nodes / total_nodes\n",
    "\n",
    "        if typ == \"Normals\":\n",
    "            acc = angle.item()*180/np.pi\n",
    "\n",
    "        print('[Train {}/{}] Loss: {:.4f}, Accuracy: {:.4f}'.format(\n",
    "              i + 1, len(loader), total_loss / loader.batch_size, acc))\n",
    "        "
   ]
  },
  {
   "cell_type": "markdown",
   "id": "loving-partnership",
   "metadata": {},
   "source": [
    "## Defining the Testing Procedure"
   ]
  },
  {
   "cell_type": "code",
   "execution_count": 18,
   "id": "based-supervision",
   "metadata": {},
   "outputs": [],
   "source": [
    "def test(loader, typ=\"Edges\"):\n",
    "    model.eval()\n",
    "\n",
    "    correct_nodes = total_nodes = 0\n",
    "    for data in loader:\n",
    "        data = data.to(device)\n",
    "        with torch.no_grad():\n",
    "            out = model(data)\n",
    "\n",
    "        if typ == \"Edges\" or typ == \"Types\":\n",
    "            pred = out.max(dim=1)[1]\n",
    "            correct_nodes += pred.eq(data.y).sum().item()\n",
    "            total_nodes += data.num_nodes\n",
    "\n",
    "        if typ == \"Normals\":\n",
    "            _, angle = cosine_loss(out, data.y)\n",
    "            correct_nodes += angle.item() * 180 / np.pi\n",
    "            total_nodes += 1\n",
    "\n",
    "    return correct_nodes / total_nodes\n"
   ]
  },
  {
   "cell_type": "markdown",
   "id": "radio-checkout",
   "metadata": {},
   "source": [
    "## Running the Training"
   ]
  },
  {
   "cell_type": "code",
   "execution_count": 19,
   "id": "fatty-authorization",
   "metadata": {},
   "outputs": [
    {
     "name": "stdout",
     "output_type": "stream",
     "text": [
      "[Train 1/1] Loss: 0.0857, Accuracy: 0.4949\n",
      "Test: 01, Accuracy: 0.9357\n"
     ]
    }
   ],
   "source": [
    "typ = \"Edges\"\n",
    "\n",
    "if typ == \"Edges\":\n",
    "    train_dataset = train_dataset_e\n",
    "    test_dataset = test_dataset_e\n",
    "\n",
    "if typ == \"Normals\":\n",
    "    train_dataset = train_dataset_n\n",
    "    test_dataset = test_dataset_n\n",
    "    \n",
    "if typ == \"Types\":\n",
    "    train_dataset = train_dataset_t\n",
    "    test_dataset = test_dataset_t    \n",
    "\n",
    "train_loader = DataLoader(train_dataset, batch_size=10, shuffle=True)\n",
    "test_loader = DataLoader(test_dataset, batch_size=1, shuffle=False)\n",
    "device = torch.device('cuda' if torch.cuda.is_available() else 'cpu')\n",
    "model = Net(train_dataset.num_classes, k=30, typ=typ).to(device)\n",
    "optimizer = torch.optim.Adam(model.parameters(), lr=0.001)\n",
    "scheduler = torch.optim.lr_scheduler.StepLR(optimizer, \n",
    "                                            step_size=20, gamma=0.8)\n",
    "\n",
    "for epoch in range(1, 2):\n",
    "    train(train_loader, typ=typ)\n",
    "    acc = test(test_loader, typ=typ)\n",
    "    print('Test: {:02d}, Accuracy: {:.4f}'.format(epoch, acc))\n",
    "    torch.save(model.state_dict(), \"%02i_%.2f.dat\"%(epoch, acc))\n",
    "    scheduler.step()"
   ]
  },
  {
   "cell_type": "markdown",
   "id": "trying-entry",
   "metadata": {},
   "source": [
    "## Loading a Pretrained Model - Edges"
   ]
  },
  {
   "cell_type": "code",
   "execution_count": 20,
   "id": "aging-cleaners",
   "metadata": {},
   "outputs": [],
   "source": [
    "typ = \"Edges\"\n",
    "test_dataset = test_dataset_e\n",
    "state_file = \"Edges_72_0.96.dat\"\n",
    "\n",
    "model = Net(test_dataset.num_classes, k=30, typ=typ)\n",
    "if torch.cuda.is_available():\n",
    "    state = torch.load(\"data/ml/ABC/models/%s\"%state_file)\n",
    "    device = torch.device('cuda')\n",
    "else:\n",
    "    state = torch.load(\"data/ml/ABC/models/%s\"%state_file, \n",
    "                       map_location=torch.device('cpu'))\n",
    "    device = torch.device('cpu')\n",
    "\n",
    "model.load_state_dict(state)\n",
    "model.to(device);"
   ]
  },
  {
   "cell_type": "markdown",
   "id": "arabic-differential",
   "metadata": {},
   "source": [
    "## Visualizing the Predicted Results"
   ]
  },
  {
   "cell_type": "code",
   "execution_count": 21,
   "id": "noticed-suicide",
   "metadata": {},
   "outputs": [
    {
     "name": "stdout",
     "output_type": "stream",
     "text": [
      "Accuracy: 0.9670\n"
     ]
    }
   ],
   "source": [
    "test_loader = DataLoader(test_dataset, batch_size=1, shuffle=True)\n",
    "loader = iter(test_loader)\n",
    "\n",
    "d = loader.next()\n",
    "with torch.no_grad():\n",
    "    out = model(d.to(device))\n",
    "\n",
    "v = d.pos.cpu().numpy()\n",
    "y = d.y.cpu().numpy()\n",
    "\n",
    "# Calculate accuracy \n",
    "acc = test(test_loader)\n",
    "print('Accuracy: {:.4f}'.format(acc))"
   ]
  },
  {
   "cell_type": "code",
   "execution_count": 22,
   "id": "delayed-scheme",
   "metadata": {},
   "outputs": [
    {
     "data": {
      "application/vnd.jupyter.widget-view+json": {
       "model_id": "443529f55a5c4f74a4c5f586902278f5",
       "version_major": 2,
       "version_minor": 0
      },
      "text/plain": [
       "Renderer(camera=PerspectiveCamera(children=(DirectionalLight(color='white', intensity=0.6, position=(8.7589025…"
      ]
     },
     "metadata": {},
     "output_type": "display_data"
    },
    {
     "data": {
      "text/plain": [
       "<meshplot.Viewer.Viewer at 0x7f9f53674be0>"
      ]
     },
     "execution_count": 22,
     "metadata": {},
     "output_type": "execute_result"
    }
   ],
   "source": [
    "# Plot groundtruth\n",
    "mp.plot(v, c=-y, shading={\"point_size\":0.15})"
   ]
  },
  {
   "cell_type": "code",
   "execution_count": 23,
   "id": "institutional-flower",
   "metadata": {},
   "outputs": [
    {
     "data": {
      "application/vnd.jupyter.widget-view+json": {
       "model_id": "2dbea726a0db47128c7be63b680e8521",
       "version_major": 2,
       "version_minor": 0
      },
      "text/plain": [
       "Renderer(camera=PerspectiveCamera(children=(DirectionalLight(color='white', intensity=0.6, position=(8.7589025…"
      ]
     },
     "metadata": {},
     "output_type": "display_data"
    },
    {
     "data": {
      "text/plain": [
       "<meshplot.Viewer.Viewer at 0x7f9f53674208>"
      ]
     },
     "execution_count": 23,
     "metadata": {},
     "output_type": "execute_result"
    }
   ],
   "source": [
    "e = out.max(dim=1)[1].cpu().numpy()    \n",
    "# Plot estimation\n",
    "mp.plot(v, c=-e, shading={\"point_size\": 0.15})"
   ]
  },
  {
   "cell_type": "markdown",
   "id": "critical-marathon",
   "metadata": {},
   "source": [
    "## Loading a Pretrained Model - Normals"
   ]
  },
  {
   "cell_type": "code",
   "execution_count": 24,
   "id": "confirmed-digest",
   "metadata": {},
   "outputs": [],
   "source": [
    "typ = \"Normals\"\n",
    "test_dataset = test_dataset_n\n",
    "state_file = \"Normals_44_12.52.dat\"\n",
    "\n",
    "model = Net(test_dataset.num_classes, k=30, typ=typ)\n",
    "if torch.cuda.is_available():\n",
    "    state = torch.load(\"data/ml/ABC/models/%s\"%state_file)\n",
    "    device = torch.device('cuda')\n",
    "else:\n",
    "    state = torch.load(\"data/ml/ABC/models/%s\"%state_file, \n",
    "                       map_location=torch.device('cpu'))\n",
    "    device = torch.device('cpu')\n",
    "\n",
    "model.load_state_dict(state)\n",
    "model.to(device);"
   ]
  },
  {
   "cell_type": "markdown",
   "id": "jewish-stretch",
   "metadata": {},
   "source": [
    "## Visualizing the Predicted Results"
   ]
  },
  {
   "cell_type": "code",
   "execution_count": 25,
   "id": "cultural-stupid",
   "metadata": {},
   "outputs": [
    {
     "name": "stdout",
     "output_type": "stream",
     "text": [
      "9.265726198786224\n"
     ]
    }
   ],
   "source": [
    "test_loader = DataLoader(test_dataset, batch_size=1, shuffle=True)\n",
    "loader = iter(test_loader)\n",
    "\n",
    "d = loader.next()\n",
    "with torch.no_grad():\n",
    "    out = model(d.to(device))\n",
    "\n",
    "v = d.pos.cpu().numpy()\n",
    "y = d.y.cpu().numpy()\n",
    "\n",
    "# Calculate accuracy\n",
    "_, angle = cosine_loss(out, d.y)\n",
    "print(angle.item() * 180 / np.pi)"
   ]
  },
  {
   "cell_type": "code",
   "execution_count": 26,
   "id": "deadly-coach",
   "metadata": {},
   "outputs": [
    {
     "data": {
      "application/vnd.jupyter.widget-view+json": {
       "model_id": "c830ec1b0af34bc3ae10cfd7e51a77ed",
       "version_major": 2,
       "version_minor": 0
      },
      "text/plain": [
       "Renderer(camera=PerspectiveCamera(children=(DirectionalLight(color='white', intensity=0.6, position=(8.7589025…"
      ]
     },
     "metadata": {},
     "output_type": "display_data"
    },
    {
     "data": {
      "text/plain": [
       "<meshplot.Viewer.Viewer at 0x7f9f536e3e48>"
      ]
     },
     "execution_count": 26,
     "metadata": {},
     "output_type": "execute_result"
    }
   ],
   "source": [
    "# Plot groundtruth\n",
    "c1 = np.abs(y)\n",
    "mp.plot(v, c=c1, shading={\"point_size\":0.15})"
   ]
  },
  {
   "cell_type": "code",
   "execution_count": 27,
   "id": "proper-function",
   "metadata": {},
   "outputs": [
    {
     "data": {
      "application/vnd.jupyter.widget-view+json": {
       "model_id": "34b97ad74ddb474a81c1a70489951d73",
       "version_major": 2,
       "version_minor": 0
      },
      "text/plain": [
       "Renderer(camera=PerspectiveCamera(children=(DirectionalLight(color='white', intensity=0.6, position=(8.7589025…"
      ]
     },
     "metadata": {},
     "output_type": "display_data"
    },
    {
     "data": {
      "text/plain": [
       "<meshplot.Viewer.Viewer at 0x7f9f535ce898>"
      ]
     },
     "execution_count": 27,
     "metadata": {},
     "output_type": "execute_result"
    }
   ],
   "source": [
    "n = out.cpu().numpy()\n",
    "c2 = np.abs(n)\n",
    "# Plot estimation\n",
    "mp.plot(v, c=c2, shading={\"point_size\": 0.15})    "
   ]
  },
  {
   "cell_type": "code",
   "execution_count": null,
   "id": "raising-disaster",
   "metadata": {},
   "outputs": [],
   "source": []
  }
 ],
 "metadata": {
  "kernelspec": {
   "display_name": "lab9",
   "language": "python",
   "name": "lab9"
  },
  "language_info": {
   "codemirror_mode": {
    "name": "ipython",
    "version": 3
   },
   "file_extension": ".py",
   "mimetype": "text/x-python",
   "name": "python",
   "nbconvert_exporter": "python",
   "pygments_lexer": "ipython3",
   "version": "3.7.0"
  }
 },
 "nbformat": 4,
 "nbformat_minor": 5
}
